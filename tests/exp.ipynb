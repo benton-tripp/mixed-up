{
 "cells": [
  {
   "cell_type": "code",
   "execution_count": 6,
   "metadata": {},
   "outputs": [],
   "source": [
    "import openai\n",
    "from openai import OpenAI\n",
    "from dotenv import load_dotenv\n",
    "import os\n",
    "from PIL import Image\n",
    "from io import BytesIO\n",
    "\n",
    "load_dotenv() \n",
    "\n",
    "client = OpenAI(\n",
    "  api_key=os.environ['OPENAI_API_KEY'],  \n",
    ")\n",
    "\n",
    "# set a directory to save DALL·E images to\n",
    "image_dir = \"../static/img\"\n",
    "\n",
    "\n",
    "\n",
    "def downsample_image_to_buffer(input_path, max_size_bytes=4*1024*1024, step=10, resize_factor=0.9):\n",
    "    \"\"\"\n",
    "    Downsample the image and return a BytesIO object within the specified size limit.\n",
    "    \n",
    "    Args:\n",
    "        input_path (str): Path to the input image.\n",
    "        max_size_bytes (int): Maximum allowed size in bytes.\n",
    "        step (int): Step size for reducing quality.\n",
    "        resize_factor (float): Factor to reduce dimensions by in each iteration.\n",
    "        \n",
    "    Returns:\n",
    "        BytesIO: A file-like object containing the downsampled image.\n",
    "    \"\"\"\n",
    "    img = Image.open(input_path)\n",
    "    img_format = img.format  # Preserve the original image's format\n",
    "    quality = 95\n",
    "    \n",
    "    img_bytes = BytesIO()\n",
    "    while True:\n",
    "        img_bytes.seek(0)  # Reset the buffer pointer to the beginning\n",
    "        img.save(img_bytes, format=img_format, quality=quality, optimize=True)\n",
    "        file_size = img_bytes.tell()  # Get the current size of the buffer\n",
    "        \n",
    "        if file_size <= max_size_bytes:\n",
    "            break  # The image is now under the threshold\n",
    "        \n",
    "        if quality > step:\n",
    "            quality -= step\n",
    "        else:\n",
    "            img = img.resize((int(img.width * resize_factor), \n",
    "                              int(img.height * resize_factor)), \n",
    "                              Image.Resampling.LANCZOS)\n",
    "    \n",
    "    img_bytes.seek(0)  # Reset buffer pointer to the beginning for reading\n",
    "    return img_bytes"
   ]
  },
  {
   "cell_type": "code",
   "execution_count": 7,
   "metadata": {},
   "outputs": [
    {
     "data": {
      "text/plain": [
       "<_io.BytesIO at 0x20608193830>"
      ]
     },
     "execution_count": 7,
     "metadata": {},
     "output_type": "execute_result"
    }
   ],
   "source": [
    "downsample_image_to_buffer(os.path.join(image_dir, \"img_2_202403030949.png\"),\n",
    "                                     max_size_bytes=2*1024*1024)"
   ]
  },
  {
   "cell_type": "code",
   "execution_count": 8,
   "metadata": {},
   "outputs": [
    {
     "data": {
      "text/plain": [
       "ImagesResponse(created=1709492141, data=[Image(b64_json=None, revised_prompt=None, url='https://oaidalleapiprodscus.blob.core.windows.net/private/org-yc7GR5rbW2E2Wk651kP3yxSV/user-eWSQd5dWkytxiy0sylYWPH42/img-hAGy2IUNrWDmGEpHOfpd96zV.png?st=2024-03-03T17%3A55%3A41Z&se=2024-03-03T19%3A55%3A41Z&sp=r&sv=2021-08-06&sr=b&rscd=inline&rsct=image/png&skoid=6aaadede-4fb3-4698-a8f6-684d7786b067&sktid=a48cca56-e6da-484e-a814-9c849652bcb3&skt=2024-03-03T12%3A49%3A32Z&ske=2024-03-04T12%3A49%3A32Z&sks=b&skv=2021-08-06&sig=7/YGBCxb7LmwSQ9GbCEvRVlfLfM2MRAP01bMAiv3acQ%3D')])"
      ]
     },
     "execution_count": 8,
     "metadata": {},
     "output_type": "execute_result"
    }
   ],
   "source": [
    "# For example(s):\n",
    "# https://github.com/openai/openai-cookbook/blob/main/examples/dalle/Image_generations_edits_and_variations_with_DALL-E.ipynb\n",
    "\n",
    "# This buffer be used directly with client.images.create_variation or similar functions\n",
    "variation_response = client.images.create_variation(\n",
    "    image=downsample_image_to_buffer(os.path.join(image_dir, \"img_2_202403030949.png\"),\n",
    "                                     max_size_bytes=2*1024*1024),\n",
    "    n=1,\n",
    "    size=\"512x512\",\n",
    "    response_format=\"url\",\n",
    ")\n",
    "\n",
    "variation_response"
   ]
  }
 ],
 "metadata": {
  "kernelspec": {
   "display_name": "env",
   "language": "python",
   "name": "python3"
  },
  "language_info": {
   "codemirror_mode": {
    "name": "ipython",
    "version": 3
   },
   "file_extension": ".py",
   "mimetype": "text/x-python",
   "name": "python",
   "nbconvert_exporter": "python",
   "pygments_lexer": "ipython3",
   "version": "3.10.5"
  }
 },
 "nbformat": 4,
 "nbformat_minor": 2
}
